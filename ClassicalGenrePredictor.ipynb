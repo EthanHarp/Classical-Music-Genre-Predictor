{
 "cells": [
  {
   "cell_type": "markdown",
   "metadata": {},
   "source": [
    "# Classical Music Genre Predictor"
   ]
  },
  {
   "cell_type": "markdown",
   "metadata": {},
   "source": [
    "## Importing Data"
   ]
  },
  {
   "cell_type": "markdown",
   "metadata": {},
   "source": [
    "Start by setting up the notebook and the dataframe"
   ]
  },
  {
   "cell_type": "code",
   "execution_count": 1,
   "metadata": {},
   "outputs": [],
   "source": [
    "#import everything that is necessary for this notebook\n",
    "import pandas as pd\n",
    "import numpy as np\n",
    "import matplotlib.pyplot as plt\n",
    "#create dataframe from the dataset\n",
    "df = pd.read_csv(\"music_genre.csv\")\n",
    "#import data for future table joins\n",
    "keys = pd.read_csv(\"key.csv\")\n",
    "modes = pd.read_csv(\"mode.csv\")\n",
    "genres = pd.read_csv(\"genre.csv\")"
   ]
  },
  {
   "cell_type": "markdown",
   "metadata": {},
   "source": [
    "I then immediately drop all of the columns related to the metadata of the song and print out some general info about the dataset"
   ]
  },
  {
   "cell_type": "code",
   "execution_count": 2,
   "metadata": {},
   "outputs": [
    {
     "name": "stdout",
     "output_type": "stream",
     "text": [
      "popularity          float64\n",
      "acousticness        float64\n",
      "danceability        float64\n",
      "duration_ms         float64\n",
      "energy              float64\n",
      "instrumentalness    float64\n",
      "key                  object\n",
      "liveness            float64\n",
      "loudness            float64\n",
      "mode                 object\n",
      "speechiness         float64\n",
      "tempo                object\n",
      "valence             float64\n",
      "music_genre          object\n",
      "dtype: object\n"
     ]
    },
    {
     "data": {
      "text/html": [
       "<div>\n",
       "<style scoped>\n",
       "    .dataframe tbody tr th:only-of-type {\n",
       "        vertical-align: middle;\n",
       "    }\n",
       "\n",
       "    .dataframe tbody tr th {\n",
       "        vertical-align: top;\n",
       "    }\n",
       "\n",
       "    .dataframe thead th {\n",
       "        text-align: right;\n",
       "    }\n",
       "</style>\n",
       "<table border=\"1\" class=\"dataframe\">\n",
       "  <thead>\n",
       "    <tr style=\"text-align: right;\">\n",
       "      <th></th>\n",
       "      <th>count</th>\n",
       "      <th>mean</th>\n",
       "      <th>std</th>\n",
       "      <th>min</th>\n",
       "      <th>25%</th>\n",
       "      <th>50%</th>\n",
       "      <th>75%</th>\n",
       "      <th>max</th>\n",
       "    </tr>\n",
       "  </thead>\n",
       "  <tbody>\n",
       "    <tr>\n",
       "      <th>popularity</th>\n",
       "      <td>50000.0</td>\n",
       "      <td>44.220420</td>\n",
       "      <td>15.542008</td>\n",
       "      <td>0.000000</td>\n",
       "      <td>34.0000</td>\n",
       "      <td>45.000000</td>\n",
       "      <td>56.000000</td>\n",
       "      <td>99.000</td>\n",
       "    </tr>\n",
       "    <tr>\n",
       "      <th>acousticness</th>\n",
       "      <td>50000.0</td>\n",
       "      <td>0.306383</td>\n",
       "      <td>0.341340</td>\n",
       "      <td>0.000000</td>\n",
       "      <td>0.0200</td>\n",
       "      <td>0.144000</td>\n",
       "      <td>0.552000</td>\n",
       "      <td>0.996</td>\n",
       "    </tr>\n",
       "    <tr>\n",
       "      <th>danceability</th>\n",
       "      <td>50000.0</td>\n",
       "      <td>0.558241</td>\n",
       "      <td>0.178632</td>\n",
       "      <td>0.059600</td>\n",
       "      <td>0.4420</td>\n",
       "      <td>0.568000</td>\n",
       "      <td>0.687000</td>\n",
       "      <td>0.986</td>\n",
       "    </tr>\n",
       "    <tr>\n",
       "      <th>duration_ms</th>\n",
       "      <td>50000.0</td>\n",
       "      <td>221252.602860</td>\n",
       "      <td>128671.957157</td>\n",
       "      <td>-1.000000</td>\n",
       "      <td>174800.0000</td>\n",
       "      <td>219281.000000</td>\n",
       "      <td>268612.250000</td>\n",
       "      <td>4830606.000</td>\n",
       "    </tr>\n",
       "    <tr>\n",
       "      <th>energy</th>\n",
       "      <td>50000.0</td>\n",
       "      <td>0.599755</td>\n",
       "      <td>0.264559</td>\n",
       "      <td>0.000792</td>\n",
       "      <td>0.4330</td>\n",
       "      <td>0.643000</td>\n",
       "      <td>0.815000</td>\n",
       "      <td>0.999</td>\n",
       "    </tr>\n",
       "    <tr>\n",
       "      <th>instrumentalness</th>\n",
       "      <td>50000.0</td>\n",
       "      <td>0.181601</td>\n",
       "      <td>0.325409</td>\n",
       "      <td>0.000000</td>\n",
       "      <td>0.0000</td>\n",
       "      <td>0.000158</td>\n",
       "      <td>0.155000</td>\n",
       "      <td>0.996</td>\n",
       "    </tr>\n",
       "    <tr>\n",
       "      <th>liveness</th>\n",
       "      <td>50000.0</td>\n",
       "      <td>0.193896</td>\n",
       "      <td>0.161637</td>\n",
       "      <td>0.009670</td>\n",
       "      <td>0.0969</td>\n",
       "      <td>0.126000</td>\n",
       "      <td>0.244000</td>\n",
       "      <td>1.000</td>\n",
       "    </tr>\n",
       "    <tr>\n",
       "      <th>loudness</th>\n",
       "      <td>50000.0</td>\n",
       "      <td>-9.133761</td>\n",
       "      <td>6.162990</td>\n",
       "      <td>-47.046000</td>\n",
       "      <td>-10.8600</td>\n",
       "      <td>-7.276500</td>\n",
       "      <td>-5.173000</td>\n",
       "      <td>3.744</td>\n",
       "    </tr>\n",
       "    <tr>\n",
       "      <th>speechiness</th>\n",
       "      <td>50000.0</td>\n",
       "      <td>0.093586</td>\n",
       "      <td>0.101373</td>\n",
       "      <td>0.022300</td>\n",
       "      <td>0.0361</td>\n",
       "      <td>0.048900</td>\n",
       "      <td>0.098525</td>\n",
       "      <td>0.942</td>\n",
       "    </tr>\n",
       "    <tr>\n",
       "      <th>valence</th>\n",
       "      <td>50000.0</td>\n",
       "      <td>0.456264</td>\n",
       "      <td>0.247119</td>\n",
       "      <td>0.000000</td>\n",
       "      <td>0.2570</td>\n",
       "      <td>0.448000</td>\n",
       "      <td>0.648000</td>\n",
       "      <td>0.992</td>\n",
       "    </tr>\n",
       "  </tbody>\n",
       "</table>\n",
       "</div>"
      ],
      "text/plain": [
       "                    count           mean            std        min  \\\n",
       "popularity        50000.0      44.220420      15.542008   0.000000   \n",
       "acousticness      50000.0       0.306383       0.341340   0.000000   \n",
       "danceability      50000.0       0.558241       0.178632   0.059600   \n",
       "duration_ms       50000.0  221252.602860  128671.957157  -1.000000   \n",
       "energy            50000.0       0.599755       0.264559   0.000792   \n",
       "instrumentalness  50000.0       0.181601       0.325409   0.000000   \n",
       "liveness          50000.0       0.193896       0.161637   0.009670   \n",
       "loudness          50000.0      -9.133761       6.162990 -47.046000   \n",
       "speechiness       50000.0       0.093586       0.101373   0.022300   \n",
       "valence           50000.0       0.456264       0.247119   0.000000   \n",
       "\n",
       "                          25%            50%            75%          max  \n",
       "popularity            34.0000      45.000000      56.000000       99.000  \n",
       "acousticness           0.0200       0.144000       0.552000        0.996  \n",
       "danceability           0.4420       0.568000       0.687000        0.986  \n",
       "duration_ms       174800.0000  219281.000000  268612.250000  4830606.000  \n",
       "energy                 0.4330       0.643000       0.815000        0.999  \n",
       "instrumentalness       0.0000       0.000158       0.155000        0.996  \n",
       "liveness               0.0969       0.126000       0.244000        1.000  \n",
       "loudness             -10.8600      -7.276500      -5.173000        3.744  \n",
       "speechiness            0.0361       0.048900       0.098525        0.942  \n",
       "valence                0.2570       0.448000       0.648000        0.992  "
      ]
     },
     "execution_count": 2,
     "metadata": {},
     "output_type": "execute_result"
    }
   ],
   "source": [
    "#deletes the columns\n",
    "df = df.drop(columns=['instance_id', \"artist_name\", \"track_name\", \"obtained_date\"])\n",
    "\n",
    "#show types of each feature\n",
    "print(df.dtypes)\n",
    "\n",
    "#displays what is left\n",
    "df.describe().transpose()"
   ]
  },
  {
   "cell_type": "markdown",
   "metadata": {},
   "source": [
    "I then use table merges to enumerate columns containing strings"
   ]
  },
  {
   "cell_type": "code",
   "execution_count": 3,
   "metadata": {},
   "outputs": [
    {
     "data": {
      "text/html": [
       "<div>\n",
       "<style scoped>\n",
       "    .dataframe tbody tr th:only-of-type {\n",
       "        vertical-align: middle;\n",
       "    }\n",
       "\n",
       "    .dataframe tbody tr th {\n",
       "        vertical-align: top;\n",
       "    }\n",
       "\n",
       "    .dataframe thead th {\n",
       "        text-align: right;\n",
       "    }\n",
       "</style>\n",
       "<table border=\"1\" class=\"dataframe\">\n",
       "  <thead>\n",
       "    <tr style=\"text-align: right;\">\n",
       "      <th></th>\n",
       "      <th>popularity</th>\n",
       "      <th>acousticness</th>\n",
       "      <th>danceability</th>\n",
       "      <th>duration_ms</th>\n",
       "      <th>energy</th>\n",
       "      <th>instrumentalness</th>\n",
       "      <th>liveness</th>\n",
       "      <th>loudness</th>\n",
       "      <th>speechiness</th>\n",
       "      <th>tempo</th>\n",
       "      <th>valence</th>\n",
       "      <th>key_index</th>\n",
       "      <th>mode_index</th>\n",
       "      <th>genre_index</th>\n",
       "      <th>genre_orig</th>\n",
       "    </tr>\n",
       "  </thead>\n",
       "  <tbody>\n",
       "    <tr>\n",
       "      <th>0</th>\n",
       "      <td>27.0</td>\n",
       "      <td>0.004680</td>\n",
       "      <td>0.652</td>\n",
       "      <td>-1.0</td>\n",
       "      <td>0.941</td>\n",
       "      <td>0.7920</td>\n",
       "      <td>0.115</td>\n",
       "      <td>-5.201</td>\n",
       "      <td>0.0748</td>\n",
       "      <td>100.889</td>\n",
       "      <td>0.7590</td>\n",
       "      <td>2.0</td>\n",
       "      <td>0.0</td>\n",
       "      <td>0.0</td>\n",
       "      <td>2.0</td>\n",
       "    </tr>\n",
       "    <tr>\n",
       "      <th>1</th>\n",
       "      <td>37.0</td>\n",
       "      <td>0.203000</td>\n",
       "      <td>0.769</td>\n",
       "      <td>429941.0</td>\n",
       "      <td>0.551</td>\n",
       "      <td>0.8820</td>\n",
       "      <td>0.109</td>\n",
       "      <td>-12.520</td>\n",
       "      <td>0.0408</td>\n",
       "      <td>?</td>\n",
       "      <td>0.0618</td>\n",
       "      <td>2.0</td>\n",
       "      <td>0.0</td>\n",
       "      <td>0.0</td>\n",
       "      <td>2.0</td>\n",
       "    </tr>\n",
       "    <tr>\n",
       "      <th>2</th>\n",
       "      <td>37.0</td>\n",
       "      <td>0.009290</td>\n",
       "      <td>0.617</td>\n",
       "      <td>-1.0</td>\n",
       "      <td>0.896</td>\n",
       "      <td>0.0776</td>\n",
       "      <td>0.526</td>\n",
       "      <td>-0.317</td>\n",
       "      <td>0.1900</td>\n",
       "      <td>149.92</td>\n",
       "      <td>0.5460</td>\n",
       "      <td>2.0</td>\n",
       "      <td>0.0</td>\n",
       "      <td>0.0</td>\n",
       "      <td>2.0</td>\n",
       "    </tr>\n",
       "    <tr>\n",
       "      <th>3</th>\n",
       "      <td>47.0</td>\n",
       "      <td>0.000409</td>\n",
       "      <td>0.567</td>\n",
       "      <td>188764.0</td>\n",
       "      <td>0.898</td>\n",
       "      <td>0.6130</td>\n",
       "      <td>0.249</td>\n",
       "      <td>-1.286</td>\n",
       "      <td>0.1250</td>\n",
       "      <td>74.995</td>\n",
       "      <td>0.1830</td>\n",
       "      <td>2.0</td>\n",
       "      <td>0.0</td>\n",
       "      <td>0.0</td>\n",
       "      <td>2.0</td>\n",
       "    </tr>\n",
       "    <tr>\n",
       "      <th>4</th>\n",
       "      <td>38.0</td>\n",
       "      <td>0.002260</td>\n",
       "      <td>0.657</td>\n",
       "      <td>174227.0</td>\n",
       "      <td>0.709</td>\n",
       "      <td>0.6300</td>\n",
       "      <td>0.200</td>\n",
       "      <td>-6.533</td>\n",
       "      <td>0.0579</td>\n",
       "      <td>80.499</td>\n",
       "      <td>0.7790</td>\n",
       "      <td>2.0</td>\n",
       "      <td>0.0</td>\n",
       "      <td>0.0</td>\n",
       "      <td>2.0</td>\n",
       "    </tr>\n",
       "  </tbody>\n",
       "</table>\n",
       "</div>"
      ],
      "text/plain": [
       "   popularity  acousticness  danceability  duration_ms  energy  \\\n",
       "0        27.0      0.004680         0.652         -1.0   0.941   \n",
       "1        37.0      0.203000         0.769     429941.0   0.551   \n",
       "2        37.0      0.009290         0.617         -1.0   0.896   \n",
       "3        47.0      0.000409         0.567     188764.0   0.898   \n",
       "4        38.0      0.002260         0.657     174227.0   0.709   \n",
       "\n",
       "   instrumentalness  liveness  loudness  speechiness    tempo  valence  \\\n",
       "0            0.7920     0.115    -5.201       0.0748  100.889   0.7590   \n",
       "1            0.8820     0.109   -12.520       0.0408        ?   0.0618   \n",
       "2            0.0776     0.526    -0.317       0.1900   149.92   0.5460   \n",
       "3            0.6130     0.249    -1.286       0.1250   74.995   0.1830   \n",
       "4            0.6300     0.200    -6.533       0.0579   80.499   0.7790   \n",
       "\n",
       "   key_index  mode_index  genre_index  genre_orig  \n",
       "0        2.0         0.0          0.0         2.0  \n",
       "1        2.0         0.0          0.0         2.0  \n",
       "2        2.0         0.0          0.0         2.0  \n",
       "3        2.0         0.0          0.0         2.0  \n",
       "4        2.0         0.0          0.0         2.0  "
      ]
     },
     "execution_count": 3,
     "metadata": {},
     "output_type": "execute_result"
    }
   ],
   "source": [
    "#using inner table joins, enumerate the columns that use strings. This will add the enumerated columns\n",
    "df = pd.merge(df,keys,on=\"key\")\n",
    "df = pd.merge(df,modes,on=\"mode\")\n",
    "df = pd.merge(df,genres,on=\"music_genre\")\n",
    "#remove the original columns, leaving only the enumerated ones\n",
    "df = df.drop(columns=[\"key\", \"mode\", \"music_genre\"])\n",
    "#check dataset for proper changes\n",
    "df.head()"
   ]
  },
  {
   "cell_type": "markdown",
   "metadata": {},
   "source": [
    "In order to perform exploratory data analysis, I want all of my columns to be numbers"
   ]
  },
  {
   "cell_type": "code",
   "execution_count": 4,
   "metadata": {},
   "outputs": [
    {
     "name": "stdout",
     "output_type": "stream",
     "text": [
      "popularity          float64\n",
      "acousticness        float64\n",
      "danceability        float64\n",
      "duration_ms         float64\n",
      "energy              float64\n",
      "instrumentalness    float64\n",
      "liveness            float64\n",
      "loudness            float64\n",
      "speechiness         float64\n",
      "tempo               float64\n",
      "valence             float64\n",
      "key_index           float64\n",
      "mode_index          float64\n",
      "genre_index         float64\n",
      "genre_orig          float64\n",
      "dtype: object\n"
     ]
    },
    {
     "data": {
      "text/html": [
       "<div>\n",
       "<style scoped>\n",
       "    .dataframe tbody tr th:only-of-type {\n",
       "        vertical-align: middle;\n",
       "    }\n",
       "\n",
       "    .dataframe tbody tr th {\n",
       "        vertical-align: top;\n",
       "    }\n",
       "\n",
       "    .dataframe thead th {\n",
       "        text-align: right;\n",
       "    }\n",
       "</style>\n",
       "<table border=\"1\" class=\"dataframe\">\n",
       "  <thead>\n",
       "    <tr style=\"text-align: right;\">\n",
       "      <th></th>\n",
       "      <th>popularity</th>\n",
       "      <th>acousticness</th>\n",
       "      <th>danceability</th>\n",
       "      <th>duration_ms</th>\n",
       "      <th>energy</th>\n",
       "      <th>instrumentalness</th>\n",
       "      <th>liveness</th>\n",
       "      <th>loudness</th>\n",
       "      <th>speechiness</th>\n",
       "      <th>tempo</th>\n",
       "      <th>valence</th>\n",
       "      <th>key_index</th>\n",
       "      <th>mode_index</th>\n",
       "      <th>genre_index</th>\n",
       "      <th>genre_orig</th>\n",
       "    </tr>\n",
       "  </thead>\n",
       "  <tbody>\n",
       "    <tr>\n",
       "      <th>0</th>\n",
       "      <td>27.0</td>\n",
       "      <td>0.004680</td>\n",
       "      <td>0.652</td>\n",
       "      <td>-1.0</td>\n",
       "      <td>0.941</td>\n",
       "      <td>0.7920</td>\n",
       "      <td>0.115</td>\n",
       "      <td>-5.201</td>\n",
       "      <td>0.0748</td>\n",
       "      <td>100.889</td>\n",
       "      <td>0.7590</td>\n",
       "      <td>2.0</td>\n",
       "      <td>0.0</td>\n",
       "      <td>0.0</td>\n",
       "      <td>2.0</td>\n",
       "    </tr>\n",
       "    <tr>\n",
       "      <th>1</th>\n",
       "      <td>37.0</td>\n",
       "      <td>0.203000</td>\n",
       "      <td>0.769</td>\n",
       "      <td>429941.0</td>\n",
       "      <td>0.551</td>\n",
       "      <td>0.8820</td>\n",
       "      <td>0.109</td>\n",
       "      <td>-12.520</td>\n",
       "      <td>0.0408</td>\n",
       "      <td>NaN</td>\n",
       "      <td>0.0618</td>\n",
       "      <td>2.0</td>\n",
       "      <td>0.0</td>\n",
       "      <td>0.0</td>\n",
       "      <td>2.0</td>\n",
       "    </tr>\n",
       "    <tr>\n",
       "      <th>2</th>\n",
       "      <td>37.0</td>\n",
       "      <td>0.009290</td>\n",
       "      <td>0.617</td>\n",
       "      <td>-1.0</td>\n",
       "      <td>0.896</td>\n",
       "      <td>0.0776</td>\n",
       "      <td>0.526</td>\n",
       "      <td>-0.317</td>\n",
       "      <td>0.1900</td>\n",
       "      <td>149.920</td>\n",
       "      <td>0.5460</td>\n",
       "      <td>2.0</td>\n",
       "      <td>0.0</td>\n",
       "      <td>0.0</td>\n",
       "      <td>2.0</td>\n",
       "    </tr>\n",
       "    <tr>\n",
       "      <th>3</th>\n",
       "      <td>47.0</td>\n",
       "      <td>0.000409</td>\n",
       "      <td>0.567</td>\n",
       "      <td>188764.0</td>\n",
       "      <td>0.898</td>\n",
       "      <td>0.6130</td>\n",
       "      <td>0.249</td>\n",
       "      <td>-1.286</td>\n",
       "      <td>0.1250</td>\n",
       "      <td>74.995</td>\n",
       "      <td>0.1830</td>\n",
       "      <td>2.0</td>\n",
       "      <td>0.0</td>\n",
       "      <td>0.0</td>\n",
       "      <td>2.0</td>\n",
       "    </tr>\n",
       "    <tr>\n",
       "      <th>4</th>\n",
       "      <td>38.0</td>\n",
       "      <td>0.002260</td>\n",
       "      <td>0.657</td>\n",
       "      <td>174227.0</td>\n",
       "      <td>0.709</td>\n",
       "      <td>0.6300</td>\n",
       "      <td>0.200</td>\n",
       "      <td>-6.533</td>\n",
       "      <td>0.0579</td>\n",
       "      <td>80.499</td>\n",
       "      <td>0.7790</td>\n",
       "      <td>2.0</td>\n",
       "      <td>0.0</td>\n",
       "      <td>0.0</td>\n",
       "      <td>2.0</td>\n",
       "    </tr>\n",
       "  </tbody>\n",
       "</table>\n",
       "</div>"
      ],
      "text/plain": [
       "   popularity  acousticness  danceability  duration_ms  energy  \\\n",
       "0        27.0      0.004680         0.652         -1.0   0.941   \n",
       "1        37.0      0.203000         0.769     429941.0   0.551   \n",
       "2        37.0      0.009290         0.617         -1.0   0.896   \n",
       "3        47.0      0.000409         0.567     188764.0   0.898   \n",
       "4        38.0      0.002260         0.657     174227.0   0.709   \n",
       "\n",
       "   instrumentalness  liveness  loudness  speechiness    tempo  valence  \\\n",
       "0            0.7920     0.115    -5.201       0.0748  100.889   0.7590   \n",
       "1            0.8820     0.109   -12.520       0.0408      NaN   0.0618   \n",
       "2            0.0776     0.526    -0.317       0.1900  149.920   0.5460   \n",
       "3            0.6130     0.249    -1.286       0.1250   74.995   0.1830   \n",
       "4            0.6300     0.200    -6.533       0.0579   80.499   0.7790   \n",
       "\n",
       "   key_index  mode_index  genre_index  genre_orig  \n",
       "0        2.0         0.0          0.0         2.0  \n",
       "1        2.0         0.0          0.0         2.0  \n",
       "2        2.0         0.0          0.0         2.0  \n",
       "3        2.0         0.0          0.0         2.0  \n",
       "4        2.0         0.0          0.0         2.0  "
      ]
     },
     "execution_count": 4,
     "metadata": {},
     "output_type": "execute_result"
    }
   ],
   "source": [
    "#change every question mark in the column to NaN\n",
    "df[\"tempo\"] = df[\"tempo\"].apply(lambda x: np.nan if x == \"?\" else x)\n",
    "#turn the column's type from object to number\n",
    "df[\"tempo\"] = pd.to_numeric(df[\"tempo\"])\n",
    "#veryify every column is now a float\n",
    "print(df.dtypes)\n",
    "#verify question mark changed too NaN\n",
    "df.head()\n"
   ]
  },
  {
   "cell_type": "markdown",
   "metadata": {},
   "source": [
    "## Exploratory Data Analysis"
   ]
  },
  {
   "cell_type": "markdown",
   "metadata": {},
   "source": [
    "make a scatter plot of the raw data\n",
    "make a histogram of how many rows are in each class\n",
    "box plots of some of your most predictive features\n",
    "null counts by column\n",
    "could take it further with some kmeans or knn clustering to see if the clusters align with specific music genres"
   ]
  },
  {
   "cell_type": "markdown",
   "metadata": {},
   "source": [
    "### Null and Duplicated Counts"
   ]
  },
  {
   "cell_type": "markdown",
   "metadata": {},
   "source": [
    "Shows amount of NaN's in the tempo column"
   ]
  },
  {
   "cell_type": "code",
   "execution_count": 5,
   "metadata": {},
   "outputs": [
    {
     "name": "stdout",
     "output_type": "stream",
     "text": [
      "4980\n"
     ]
    }
   ],
   "source": [
    "hf = df.loc[np.isnan(df['tempo'])]\n",
    "print(len(hf.index))\n"
   ]
  },
  {
   "cell_type": "markdown",
   "metadata": {},
   "source": [
    "Shows the amount of unuseable data in the duration column"
   ]
  },
  {
   "cell_type": "code",
   "execution_count": 6,
   "metadata": {},
   "outputs": [
    {
     "name": "stdout",
     "output_type": "stream",
     "text": [
      "4939\n"
     ]
    }
   ],
   "source": [
    "hf = df.loc[df['duration_ms'] <= 0]\n",
    "print(len(hf.index))"
   ]
  },
  {
   "cell_type": "markdown",
   "metadata": {},
   "source": [
    "Shows the amount of time that for the same row the tempo and duration is missing"
   ]
  },
  {
   "cell_type": "code",
   "execution_count": 7,
   "metadata": {},
   "outputs": [
    {
     "name": "stdout",
     "output_type": "stream",
     "text": [
      "479\n"
     ]
    }
   ],
   "source": [
    "hf = hf.loc[np.isnan(hf['tempo'])]\n",
    "print(len(hf.index))"
   ]
  },
  {
   "cell_type": "markdown",
   "metadata": {},
   "source": [
    "Since the number of unique rows with missing data is 9,440, it would be detrimental to delete it. \n",
    "\n",
    "This shows the number of NaN's per column, this does not include the unuseable data of the duration column."
   ]
  },
  {
   "cell_type": "code",
   "execution_count": 8,
   "metadata": {},
   "outputs": [
    {
     "data": {
      "text/plain": [
       "popularity             0\n",
       "acousticness           0\n",
       "danceability           0\n",
       "duration_ms            0\n",
       "energy                 0\n",
       "instrumentalness       0\n",
       "liveness               0\n",
       "loudness               0\n",
       "speechiness            0\n",
       "tempo               4980\n",
       "valence                0\n",
       "key_index              0\n",
       "mode_index             0\n",
       "genre_index            0\n",
       "genre_orig             0\n",
       "dtype: int64"
      ]
     },
     "execution_count": 8,
     "metadata": {},
     "output_type": "execute_result"
    }
   ],
   "source": [
    "df.isna().sum()"
   ]
  },
  {
   "cell_type": "markdown",
   "metadata": {},
   "source": [
    "Shows the number of rows with the exact same information"
   ]
  },
  {
   "cell_type": "code",
   "execution_count": 9,
   "metadata": {},
   "outputs": [
    {
     "name": "stdout",
     "output_type": "stream",
     "text": [
      "1\n"
     ]
    }
   ],
   "source": [
    "print(df.duplicated().sum())"
   ]
  },
  {
   "cell_type": "markdown",
   "metadata": {},
   "source": [
    "### Predictive features"
   ]
  },
  {
   "cell_type": "markdown",
   "metadata": {},
   "source": [
    "These show the box plots for the three most predictive features in the dataset"
   ]
  },
  {
   "cell_type": "code",
   "execution_count": 10,
   "metadata": {},
   "outputs": [
    {
     "data": {
      "image/png": "[encoded data removed]",
      "text/plain": [
       "<Figure size 432x288 with 1 Axes>"
      ]
     },
     "metadata": {
      "needs_background": "light"
     },
     "output_type": "display_data"
    }
   ],
   "source": [
    "plot = df.boxplot(column=['popularity'])"
   ]
  },
  {
   "cell_type": "code",
   "execution_count": 11,
   "metadata": {},
   "outputs": [
    {
     "data": {
      "image/png": "[encoded data removed]",
      "text/plain": [
       "<Figure size 432x288 with 1 Axes>"
      ]
     },
     "metadata": {
      "needs_background": "light"
     },
     "output_type": "display_data"
    }
   ],
   "source": [
    "plot = df.boxplot(column=['speechiness'])"
   ]
  },
  {
   "cell_type": "code",
   "execution_count": 12,
   "metadata": {},
   "outputs": [
    {
     "data": {
      "image/png": "[encoded data removed]",
      "text/plain": [
       "<Figure size 432x288 with 1 Axes>"
      ]
     },
     "metadata": {
      "needs_background": "light"
     },
     "output_type": "display_data"
    }
   ],
   "source": [
    "plot = df.boxplot(column=['danceability'])"
   ]
  },
  {
   "cell_type": "markdown",
   "metadata": {},
   "source": [
    "### Features with Missing Data"
   ]
  },
  {
   "cell_type": "markdown",
   "metadata": {},
   "source": [
    "These show the boxplots for the two columns with missing data, showing that data is somewhat skewed (especially for duration)"
   ]
  },
  {
   "cell_type": "code",
   "execution_count": 13,
   "metadata": {},
   "outputs": [
    {
     "data": {
      "image/png": "[encoded data removed]",
      "text/plain": [
       "<Figure size 432x288 with 1 Axes>"
      ]
     },
     "metadata": {
      "needs_background": "light"
     },
     "output_type": "display_data"
    }
   ],
   "source": [
    "plot = df.boxplot(column=['tempo'])"
   ]
  },
  {
   "cell_type": "code",
   "execution_count": 14,
   "metadata": {},
   "outputs": [
    {
     "data": {
      "image/png": "[encoded data removed]",
      "text/plain": [
       "<Figure size 432x288 with 1 Axes>"
      ]
     },
     "metadata": {
      "needs_background": "light"
     },
     "output_type": "display_data"
    }
   ],
   "source": [
    "plot = df.boxplot(column=['duration_ms'])"
   ]
  },
  {
   "cell_type": "markdown",
   "metadata": {},
   "source": [
    "### Key"
   ]
  },
  {
   "cell_type": "markdown",
   "metadata": {},
   "source": [
    "These graphs show the distribution of keys of songs for each genre. Although most keys are evenly split amongst genres, however there seems to be a bit of a difference in the 7th key and a big difference in the 5th key (Being D# and C# respectively). This shows that if the key of a song is D# or C# then it is more likely to belong in the rock genre."
   ]
  },
  {
   "cell_type": "code",
   "execution_count": 15,
   "metadata": {},
   "outputs": [
    {
     "data": {
      "text/plain": [
       "array([[<AxesSubplot:title={'center':'key_index'}>]], dtype=object)"
      ]
     },
     "execution_count": 15,
     "metadata": {},
     "output_type": "execute_result"
    },
    {
     "data": {
      "image/png": "[encoded data removed]",
      "text/plain": [
       "<Figure size 432x288 with 1 Axes>"
      ]
     },
     "metadata": {
      "needs_background": "light"
     },
     "output_type": "display_data"
    }
   ],
   "source": [
    "hf = df.loc[df['genre_index'] == 1]\n",
    "hf.hist(column='key_index')"
   ]
  },
  {
   "cell_type": "code",
   "execution_count": 16,
   "metadata": {},
   "outputs": [
    {
     "data": {
      "text/plain": [
       "array([[<AxesSubplot:title={'center':'key_index'}>]], dtype=object)"
      ]
     },
     "execution_count": 16,
     "metadata": {},
     "output_type": "execute_result"
    },
    {
     "data": {
      "image/png": "[encoded data removed]",
      "text/plain": [
       "<Figure size 432x288 with 1 Axes>"
      ]
     },
     "metadata": {
      "needs_background": "light"
     },
     "output_type": "display_data"
    }
   ],
   "source": [
    "hf = df.loc[df['genre_index'] == 0]\n",
    "hf.hist(column='key_index')"
   ]
  },
  {
   "cell_type": "markdown",
   "metadata": {},
   "source": [
    "### Mode"
   ]
  },
  {
   "cell_type": "markdown",
   "metadata": {},
   "source": [
    "This shows that if a song has a mode of 0 (minor) it is less likely to be a rock song."
   ]
  },
  {
   "cell_type": "code",
   "execution_count": 17,
   "metadata": {},
   "outputs": [
    {
     "data": {
      "text/plain": [
       "array([[<AxesSubplot:title={'center':'mode_index'}>]], dtype=object)"
      ]
     },
     "execution_count": 17,
     "metadata": {},
     "output_type": "execute_result"
    },
    {
     "data": {
      "image/png": "[encoded data removed]",
      "text/plain": [
       "<Figure size 432x288 with 1 Axes>"
      ]
     },
     "metadata": {
      "needs_background": "light"
     },
     "output_type": "display_data"
    }
   ],
   "source": [
    "hf = df.loc[df['genre_index'] == 1]\n",
    "hf.hist(column='mode_index')"
   ]
  },
  {
   "cell_type": "code",
   "execution_count": 18,
   "metadata": {},
   "outputs": [
    {
     "data": {
      "text/plain": [
       "array([[<AxesSubplot:title={'center':'mode_index'}>]], dtype=object)"
      ]
     },
     "execution_count": 18,
     "metadata": {},
     "output_type": "execute_result"
    },
    {
     "data": {
      "image/png": "[encoded data removed]",
      "text/plain": [
       "<Figure size 432x288 with 1 Axes>"
      ]
     },
     "metadata": {
      "needs_background": "light"
     },
     "output_type": "display_data"
    }
   ],
   "source": [
    "hf = df.loc[df['genre_index'] == 0]\n",
    "hf.hist(column='mode_index')"
   ]
  },
  {
   "cell_type": "markdown",
   "metadata": {},
   "source": [
    "### Distribution checks"
   ]
  },
  {
   "cell_type": "code",
   "execution_count": 19,
   "metadata": {},
   "outputs": [
    {
     "data": {
      "text/plain": [
       "array([[<AxesSubplot:title={'center':'genre_orig'}>]], dtype=object)"
      ]
     },
     "execution_count": 19,
     "metadata": {},
     "output_type": "execute_result"
    },
    {
     "data": {
      "image/png": "[encoded data removed]",
      "text/plain": [
       "<Figure size 432x288 with 1 Axes>"
      ]
     },
     "metadata": {
      "needs_background": "light"
     },
     "output_type": "display_data"
    }
   ],
   "source": [
    "df.hist(column='genre_orig')"
   ]
  },
  {
   "cell_type": "markdown",
   "metadata": {},
   "source": [
    "This shows how many songs of each genre are in the dataset, this confirms that it is an even distribution."
   ]
  },
  {
   "cell_type": "code",
   "execution_count": 20,
   "metadata": {},
   "outputs": [
    {
     "data": {
      "text/plain": [
       "array([[<AxesSubplot:title={'center':'genre_orig'}>]], dtype=object)"
      ]
     },
     "execution_count": 20,
     "metadata": {},
     "output_type": "execute_result"
    },
    {
     "data": {
      "image/png": "[encoded data removed]",
      "text/plain": [
       "<Figure size 432x288 with 1 Axes>"
      ]
     },
     "metadata": {
      "needs_background": "light"
     },
     "output_type": "display_data"
    }
   ],
   "source": [
    "hf = df.loc[np.isnan(df['tempo'])]\n",
    "hf.hist(column='genre_orig')"
   ]
  },
  {
   "cell_type": "markdown",
   "metadata": {},
   "source": [
    "This is a graph of the distribution of missing values for the tempo column. This shows that the distribution of missing values is mostly random."
   ]
  },
  {
   "cell_type": "code",
   "execution_count": 21,
   "metadata": {},
   "outputs": [
    {
     "data": {
      "text/plain": [
       "array([[<AxesSubplot:title={'center':'genre_orig'}>]], dtype=object)"
      ]
     },
     "execution_count": 21,
     "metadata": {},
     "output_type": "execute_result"
    },
    {
     "data": {
      "image/png": "[encoded data removed]",
      "text/plain": [
       "<Figure size 432x288 with 1 Axes>"
      ]
     },
     "metadata": {
      "needs_background": "light"
     },
     "output_type": "display_data"
    }
   ],
   "source": [
    "hf = df.loc[df['duration_ms'] <= 0]\n",
    "hf.hist(column='genre_orig')"
   ]
  },
  {
   "cell_type": "code",
   "execution_count": 22,
   "metadata": {},
   "outputs": [],
   "source": [
    "df = df.drop(columns=['genre_orig'])"
   ]
  },
  {
   "cell_type": "markdown",
   "metadata": {},
   "source": [
    "This is a graph of the distribution of missing values for the duration_ms column. This shows that the distribution of missing values is mostly random."
   ]
  },
  {
   "cell_type": "markdown",
   "metadata": {},
   "source": [
    "## Feature Engineering"
   ]
  },
  {
   "cell_type": "code",
   "execution_count": 23,
   "metadata": {},
   "outputs": [
    {
     "data": {
      "text/html": [
       "<div>\n",
       "<style scoped>\n",
       "    .dataframe tbody tr th:only-of-type {\n",
       "        vertical-align: middle;\n",
       "    }\n",
       "\n",
       "    .dataframe tbody tr th {\n",
       "        vertical-align: top;\n",
       "    }\n",
       "\n",
       "    .dataframe thead th {\n",
       "        text-align: right;\n",
       "    }\n",
       "</style>\n",
       "<table border=\"1\" class=\"dataframe\">\n",
       "  <thead>\n",
       "    <tr style=\"text-align: right;\">\n",
       "      <th></th>\n",
       "      <th>popularity</th>\n",
       "      <th>acousticness</th>\n",
       "      <th>danceability</th>\n",
       "      <th>duration_ms</th>\n",
       "      <th>energy</th>\n",
       "      <th>instrumentalness</th>\n",
       "      <th>liveness</th>\n",
       "      <th>loudness</th>\n",
       "      <th>speechiness</th>\n",
       "      <th>tempo</th>\n",
       "      <th>valence</th>\n",
       "      <th>key_index</th>\n",
       "      <th>mode_index</th>\n",
       "      <th>genre_index</th>\n",
       "    </tr>\n",
       "  </thead>\n",
       "  <tbody>\n",
       "    <tr>\n",
       "      <th>0</th>\n",
       "      <td>27.0</td>\n",
       "      <td>0.004680</td>\n",
       "      <td>0.652</td>\n",
       "      <td>-1.0</td>\n",
       "      <td>0.941</td>\n",
       "      <td>0.7920</td>\n",
       "      <td>0.115</td>\n",
       "      <td>-5.201</td>\n",
       "      <td>0.0748</td>\n",
       "      <td>100.889</td>\n",
       "      <td>0.7590</td>\n",
       "      <td>2.0</td>\n",
       "      <td>0.0</td>\n",
       "      <td>0.0</td>\n",
       "    </tr>\n",
       "    <tr>\n",
       "      <th>1</th>\n",
       "      <td>37.0</td>\n",
       "      <td>0.203000</td>\n",
       "      <td>0.769</td>\n",
       "      <td>429941.0</td>\n",
       "      <td>0.551</td>\n",
       "      <td>0.8820</td>\n",
       "      <td>0.109</td>\n",
       "      <td>-12.520</td>\n",
       "      <td>0.0408</td>\n",
       "      <td>NaN</td>\n",
       "      <td>0.0618</td>\n",
       "      <td>2.0</td>\n",
       "      <td>0.0</td>\n",
       "      <td>0.0</td>\n",
       "    </tr>\n",
       "    <tr>\n",
       "      <th>2</th>\n",
       "      <td>37.0</td>\n",
       "      <td>0.009290</td>\n",
       "      <td>0.617</td>\n",
       "      <td>-1.0</td>\n",
       "      <td>0.896</td>\n",
       "      <td>0.0776</td>\n",
       "      <td>0.526</td>\n",
       "      <td>-0.317</td>\n",
       "      <td>0.1900</td>\n",
       "      <td>149.920</td>\n",
       "      <td>0.5460</td>\n",
       "      <td>2.0</td>\n",
       "      <td>0.0</td>\n",
       "      <td>0.0</td>\n",
       "    </tr>\n",
       "    <tr>\n",
       "      <th>3</th>\n",
       "      <td>47.0</td>\n",
       "      <td>0.000409</td>\n",
       "      <td>0.567</td>\n",
       "      <td>188764.0</td>\n",
       "      <td>0.898</td>\n",
       "      <td>0.6130</td>\n",
       "      <td>0.249</td>\n",
       "      <td>-1.286</td>\n",
       "      <td>0.1250</td>\n",
       "      <td>74.995</td>\n",
       "      <td>0.1830</td>\n",
       "      <td>2.0</td>\n",
       "      <td>0.0</td>\n",
       "      <td>0.0</td>\n",
       "    </tr>\n",
       "    <tr>\n",
       "      <th>4</th>\n",
       "      <td>38.0</td>\n",
       "      <td>0.002260</td>\n",
       "      <td>0.657</td>\n",
       "      <td>174227.0</td>\n",
       "      <td>0.709</td>\n",
       "      <td>0.6300</td>\n",
       "      <td>0.200</td>\n",
       "      <td>-6.533</td>\n",
       "      <td>0.0579</td>\n",
       "      <td>80.499</td>\n",
       "      <td>0.7790</td>\n",
       "      <td>2.0</td>\n",
       "      <td>0.0</td>\n",
       "      <td>0.0</td>\n",
       "    </tr>\n",
       "  </tbody>\n",
       "</table>\n",
       "</div>"
      ],
      "text/plain": [
       "   popularity  acousticness  danceability  duration_ms  energy  \\\n",
       "0        27.0      0.004680         0.652         -1.0   0.941   \n",
       "1        37.0      0.203000         0.769     429941.0   0.551   \n",
       "2        37.0      0.009290         0.617         -1.0   0.896   \n",
       "3        47.0      0.000409         0.567     188764.0   0.898   \n",
       "4        38.0      0.002260         0.657     174227.0   0.709   \n",
       "\n",
       "   instrumentalness  liveness  loudness  speechiness    tempo  valence  \\\n",
       "0            0.7920     0.115    -5.201       0.0748  100.889   0.7590   \n",
       "1            0.8820     0.109   -12.520       0.0408      NaN   0.0618   \n",
       "2            0.0776     0.526    -0.317       0.1900  149.920   0.5460   \n",
       "3            0.6130     0.249    -1.286       0.1250   74.995   0.1830   \n",
       "4            0.6300     0.200    -6.533       0.0579   80.499   0.7790   \n",
       "\n",
       "   key_index  mode_index  genre_index  \n",
       "0        2.0         0.0          0.0  \n",
       "1        2.0         0.0          0.0  \n",
       "2        2.0         0.0          0.0  \n",
       "3        2.0         0.0          0.0  \n",
       "4        2.0         0.0          0.0  "
      ]
     },
     "execution_count": 23,
     "metadata": {},
     "output_type": "execute_result"
    }
   ],
   "source": [
    "df.head()"
   ]
  },
  {
   "cell_type": "markdown",
   "metadata": {},
   "source": [
    "The above table shows that loudness has both negative and positive values, since I eventually want all parameters to be between zero and one, I want to shift this. I also want to change the key, mode, and genre to numbers rather than objects so they will appear and can be normalized."
   ]
  },
  {
   "cell_type": "code",
   "execution_count": 24,
   "metadata": {},
   "outputs": [],
   "source": [
    "minimum = df['loudness'].min() * -1\n",
    "df['loudness'] = df['loudness'] + minimum"
   ]
  },
  {
   "cell_type": "markdown",
   "metadata": {},
   "source": [
    "In the Exploratory Data section under Distribution Checks, the graphs show that the data is missing at random. Since it is MAR, I wanted to use either the mean, median, or mode. As the data is at least somewhat skewed (Exploratory Data, Features with Missing Data) and is all numerical, I decided to use the median for imputation,"
   ]
  },
  {
   "cell_type": "code",
   "execution_count": 25,
   "metadata": {},
   "outputs": [
    {
     "data": {
      "text/html": [
       "<div>\n",
       "<style scoped>\n",
       "    .dataframe tbody tr th:only-of-type {\n",
       "        vertical-align: middle;\n",
       "    }\n",
       "\n",
       "    .dataframe tbody tr th {\n",
       "        vertical-align: top;\n",
       "    }\n",
       "\n",
       "    .dataframe thead th {\n",
       "        text-align: right;\n",
       "    }\n",
       "</style>\n",
       "<table border=\"1\" class=\"dataframe\">\n",
       "  <thead>\n",
       "    <tr style=\"text-align: right;\">\n",
       "      <th></th>\n",
       "      <th>popularity</th>\n",
       "      <th>acousticness</th>\n",
       "      <th>danceability</th>\n",
       "      <th>duration_ms</th>\n",
       "      <th>energy</th>\n",
       "      <th>instrumentalness</th>\n",
       "      <th>liveness</th>\n",
       "      <th>loudness</th>\n",
       "      <th>speechiness</th>\n",
       "      <th>tempo</th>\n",
       "      <th>valence</th>\n",
       "      <th>key_index</th>\n",
       "      <th>mode_index</th>\n",
       "      <th>genre_index</th>\n",
       "    </tr>\n",
       "  </thead>\n",
       "  <tbody>\n",
       "    <tr>\n",
       "      <th>0</th>\n",
       "      <td>27.0</td>\n",
       "      <td>0.004680</td>\n",
       "      <td>0.652</td>\n",
       "      <td>219281.0</td>\n",
       "      <td>0.941</td>\n",
       "      <td>0.7920</td>\n",
       "      <td>0.115</td>\n",
       "      <td>41.845</td>\n",
       "      <td>0.0748</td>\n",
       "      <td>100.889</td>\n",
       "      <td>0.7590</td>\n",
       "      <td>2.0</td>\n",
       "      <td>0.0</td>\n",
       "      <td>0.0</td>\n",
       "    </tr>\n",
       "    <tr>\n",
       "      <th>1</th>\n",
       "      <td>37.0</td>\n",
       "      <td>0.203000</td>\n",
       "      <td>0.769</td>\n",
       "      <td>429941.0</td>\n",
       "      <td>0.551</td>\n",
       "      <td>0.8820</td>\n",
       "      <td>0.109</td>\n",
       "      <td>34.526</td>\n",
       "      <td>0.0408</td>\n",
       "      <td>119.879</td>\n",
       "      <td>0.0618</td>\n",
       "      <td>2.0</td>\n",
       "      <td>0.0</td>\n",
       "      <td>0.0</td>\n",
       "    </tr>\n",
       "    <tr>\n",
       "      <th>2</th>\n",
       "      <td>37.0</td>\n",
       "      <td>0.009290</td>\n",
       "      <td>0.617</td>\n",
       "      <td>219281.0</td>\n",
       "      <td>0.896</td>\n",
       "      <td>0.0776</td>\n",
       "      <td>0.526</td>\n",
       "      <td>46.729</td>\n",
       "      <td>0.1900</td>\n",
       "      <td>149.920</td>\n",
       "      <td>0.5460</td>\n",
       "      <td>2.0</td>\n",
       "      <td>0.0</td>\n",
       "      <td>0.0</td>\n",
       "    </tr>\n",
       "    <tr>\n",
       "      <th>3</th>\n",
       "      <td>47.0</td>\n",
       "      <td>0.000409</td>\n",
       "      <td>0.567</td>\n",
       "      <td>188764.0</td>\n",
       "      <td>0.898</td>\n",
       "      <td>0.6130</td>\n",
       "      <td>0.249</td>\n",
       "      <td>45.760</td>\n",
       "      <td>0.1250</td>\n",
       "      <td>74.995</td>\n",
       "      <td>0.1830</td>\n",
       "      <td>2.0</td>\n",
       "      <td>0.0</td>\n",
       "      <td>0.0</td>\n",
       "    </tr>\n",
       "    <tr>\n",
       "      <th>4</th>\n",
       "      <td>38.0</td>\n",
       "      <td>0.002260</td>\n",
       "      <td>0.657</td>\n",
       "      <td>174227.0</td>\n",
       "      <td>0.709</td>\n",
       "      <td>0.6300</td>\n",
       "      <td>0.200</td>\n",
       "      <td>40.513</td>\n",
       "      <td>0.0579</td>\n",
       "      <td>80.499</td>\n",
       "      <td>0.7790</td>\n",
       "      <td>2.0</td>\n",
       "      <td>0.0</td>\n",
       "      <td>0.0</td>\n",
       "    </tr>\n",
       "  </tbody>\n",
       "</table>\n",
       "</div>"
      ],
      "text/plain": [
       "   popularity  acousticness  danceability  duration_ms  energy  \\\n",
       "0        27.0      0.004680         0.652     219281.0   0.941   \n",
       "1        37.0      0.203000         0.769     429941.0   0.551   \n",
       "2        37.0      0.009290         0.617     219281.0   0.896   \n",
       "3        47.0      0.000409         0.567     188764.0   0.898   \n",
       "4        38.0      0.002260         0.657     174227.0   0.709   \n",
       "\n",
       "   instrumentalness  liveness  loudness  speechiness    tempo  valence  \\\n",
       "0            0.7920     0.115    41.845       0.0748  100.889   0.7590   \n",
       "1            0.8820     0.109    34.526       0.0408  119.879   0.0618   \n",
       "2            0.0776     0.526    46.729       0.1900  149.920   0.5460   \n",
       "3            0.6130     0.249    45.760       0.1250   74.995   0.1830   \n",
       "4            0.6300     0.200    40.513       0.0579   80.499   0.7790   \n",
       "\n",
       "   key_index  mode_index  genre_index  \n",
       "0        2.0         0.0          0.0  \n",
       "1        2.0         0.0          0.0  \n",
       "2        2.0         0.0          0.0  \n",
       "3        2.0         0.0          0.0  \n",
       "4        2.0         0.0          0.0  "
      ]
     },
     "execution_count": 25,
     "metadata": {},
     "output_type": "execute_result"
    }
   ],
   "source": [
    "#replaces every NaN with the median\n",
    "df['tempo'] = df['tempo'].replace(np.nan, df['tempo'].median())\n",
    "#replaces every values greater than or equal to zero with the median\n",
    "df['duration_ms'] = df['duration_ms'].apply(lambda x: df['duration_ms'].median() if x <= 0 else x)\n",
    "#verify question mark turned into a number\n",
    "df.head()"
   ]
  },
  {
   "cell_type": "code",
   "execution_count": 26,
   "metadata": {},
   "outputs": [
    {
     "data": {
      "text/html": [
       "<div>\n",
       "<style scoped>\n",
       "    .dataframe tbody tr th:only-of-type {\n",
       "        vertical-align: middle;\n",
       "    }\n",
       "\n",
       "    .dataframe tbody tr th {\n",
       "        vertical-align: top;\n",
       "    }\n",
       "\n",
       "    .dataframe thead th {\n",
       "        text-align: right;\n",
       "    }\n",
       "</style>\n",
       "<table border=\"1\" class=\"dataframe\">\n",
       "  <thead>\n",
       "    <tr style=\"text-align: right;\">\n",
       "      <th></th>\n",
       "      <th>count</th>\n",
       "      <th>mean</th>\n",
       "      <th>std</th>\n",
       "      <th>min</th>\n",
       "      <th>25%</th>\n",
       "      <th>50%</th>\n",
       "      <th>75%</th>\n",
       "      <th>max</th>\n",
       "    </tr>\n",
       "  </thead>\n",
       "  <tbody>\n",
       "    <tr>\n",
       "      <th>popularity</th>\n",
       "      <td>50000.0</td>\n",
       "      <td>44.220420</td>\n",
       "      <td>15.542008</td>\n",
       "      <td>0.000000</td>\n",
       "      <td>34.00000</td>\n",
       "      <td>45.000000</td>\n",
       "      <td>56.000000</td>\n",
       "      <td>99.000</td>\n",
       "    </tr>\n",
       "    <tr>\n",
       "      <th>acousticness</th>\n",
       "      <td>50000.0</td>\n",
       "      <td>0.306383</td>\n",
       "      <td>0.341340</td>\n",
       "      <td>0.000000</td>\n",
       "      <td>0.02000</td>\n",
       "      <td>0.144000</td>\n",
       "      <td>0.552000</td>\n",
       "      <td>0.996</td>\n",
       "    </tr>\n",
       "    <tr>\n",
       "      <th>danceability</th>\n",
       "      <td>50000.0</td>\n",
       "      <td>0.558241</td>\n",
       "      <td>0.178632</td>\n",
       "      <td>0.059600</td>\n",
       "      <td>0.44200</td>\n",
       "      <td>0.568000</td>\n",
       "      <td>0.687000</td>\n",
       "      <td>0.986</td>\n",
       "    </tr>\n",
       "    <tr>\n",
       "      <th>duration_ms</th>\n",
       "      <td>50000.0</td>\n",
       "      <td>242913.278820</td>\n",
       "      <td>106075.316348</td>\n",
       "      <td>15509.000000</td>\n",
       "      <td>194875.00000</td>\n",
       "      <td>219281.500000</td>\n",
       "      <td>268612.250000</td>\n",
       "      <td>4830606.000</td>\n",
       "    </tr>\n",
       "    <tr>\n",
       "      <th>energy</th>\n",
       "      <td>50000.0</td>\n",
       "      <td>0.599755</td>\n",
       "      <td>0.264559</td>\n",
       "      <td>0.000792</td>\n",
       "      <td>0.43300</td>\n",
       "      <td>0.643000</td>\n",
       "      <td>0.815000</td>\n",
       "      <td>0.999</td>\n",
       "    </tr>\n",
       "    <tr>\n",
       "      <th>instrumentalness</th>\n",
       "      <td>50000.0</td>\n",
       "      <td>0.181601</td>\n",
       "      <td>0.325409</td>\n",
       "      <td>0.000000</td>\n",
       "      <td>0.00000</td>\n",
       "      <td>0.000158</td>\n",
       "      <td>0.155000</td>\n",
       "      <td>0.996</td>\n",
       "    </tr>\n",
       "    <tr>\n",
       "      <th>liveness</th>\n",
       "      <td>50000.0</td>\n",
       "      <td>0.193896</td>\n",
       "      <td>0.161637</td>\n",
       "      <td>0.009670</td>\n",
       "      <td>0.09690</td>\n",
       "      <td>0.126000</td>\n",
       "      <td>0.244000</td>\n",
       "      <td>1.000</td>\n",
       "    </tr>\n",
       "    <tr>\n",
       "      <th>loudness</th>\n",
       "      <td>50000.0</td>\n",
       "      <td>37.912239</td>\n",
       "      <td>6.162990</td>\n",
       "      <td>0.000000</td>\n",
       "      <td>36.18600</td>\n",
       "      <td>39.769500</td>\n",
       "      <td>41.873000</td>\n",
       "      <td>50.790</td>\n",
       "    </tr>\n",
       "    <tr>\n",
       "      <th>speechiness</th>\n",
       "      <td>50000.0</td>\n",
       "      <td>0.093586</td>\n",
       "      <td>0.101373</td>\n",
       "      <td>0.022300</td>\n",
       "      <td>0.03610</td>\n",
       "      <td>0.048900</td>\n",
       "      <td>0.098525</td>\n",
       "      <td>0.942</td>\n",
       "    </tr>\n",
       "    <tr>\n",
       "      <th>tempo</th>\n",
       "      <td>50000.0</td>\n",
       "      <td>119.945594</td>\n",
       "      <td>29.075705</td>\n",
       "      <td>34.347000</td>\n",
       "      <td>96.77575</td>\n",
       "      <td>119.879000</td>\n",
       "      <td>139.468250</td>\n",
       "      <td>220.276</td>\n",
       "    </tr>\n",
       "    <tr>\n",
       "      <th>valence</th>\n",
       "      <td>50000.0</td>\n",
       "      <td>0.456264</td>\n",
       "      <td>0.247119</td>\n",
       "      <td>0.000000</td>\n",
       "      <td>0.25700</td>\n",
       "      <td>0.448000</td>\n",
       "      <td>0.648000</td>\n",
       "      <td>0.992</td>\n",
       "    </tr>\n",
       "    <tr>\n",
       "      <th>key_index</th>\n",
       "      <td>50000.0</td>\n",
       "      <td>6.354420</td>\n",
       "      <td>3.457225</td>\n",
       "      <td>1.000000</td>\n",
       "      <td>4.00000</td>\n",
       "      <td>6.000000</td>\n",
       "      <td>9.000000</td>\n",
       "      <td>12.000</td>\n",
       "    </tr>\n",
       "    <tr>\n",
       "      <th>mode_index</th>\n",
       "      <td>50000.0</td>\n",
       "      <td>0.641980</td>\n",
       "      <td>0.479423</td>\n",
       "      <td>0.000000</td>\n",
       "      <td>0.00000</td>\n",
       "      <td>1.000000</td>\n",
       "      <td>1.000000</td>\n",
       "      <td>1.000</td>\n",
       "    </tr>\n",
       "    <tr>\n",
       "      <th>genre_index</th>\n",
       "      <td>50000.0</td>\n",
       "      <td>0.100000</td>\n",
       "      <td>0.300003</td>\n",
       "      <td>0.000000</td>\n",
       "      <td>0.00000</td>\n",
       "      <td>0.000000</td>\n",
       "      <td>0.000000</td>\n",
       "      <td>1.000</td>\n",
       "    </tr>\n",
       "  </tbody>\n",
       "</table>\n",
       "</div>"
      ],
      "text/plain": [
       "                    count           mean            std           min  \\\n",
       "popularity        50000.0      44.220420      15.542008      0.000000   \n",
       "acousticness      50000.0       0.306383       0.341340      0.000000   \n",
       "danceability      50000.0       0.558241       0.178632      0.059600   \n",
       "duration_ms       50000.0  242913.278820  106075.316348  15509.000000   \n",
       "energy            50000.0       0.599755       0.264559      0.000792   \n",
       "instrumentalness  50000.0       0.181601       0.325409      0.000000   \n",
       "liveness          50000.0       0.193896       0.161637      0.009670   \n",
       "loudness          50000.0      37.912239       6.162990      0.000000   \n",
       "speechiness       50000.0       0.093586       0.101373      0.022300   \n",
       "tempo             50000.0     119.945594      29.075705     34.347000   \n",
       "valence           50000.0       0.456264       0.247119      0.000000   \n",
       "key_index         50000.0       6.354420       3.457225      1.000000   \n",
       "mode_index        50000.0       0.641980       0.479423      0.000000   \n",
       "genre_index       50000.0       0.100000       0.300003      0.000000   \n",
       "\n",
       "                           25%            50%            75%          max  \n",
       "popularity            34.00000      45.000000      56.000000       99.000  \n",
       "acousticness           0.02000       0.144000       0.552000        0.996  \n",
       "danceability           0.44200       0.568000       0.687000        0.986  \n",
       "duration_ms       194875.00000  219281.500000  268612.250000  4830606.000  \n",
       "energy                 0.43300       0.643000       0.815000        0.999  \n",
       "instrumentalness       0.00000       0.000158       0.155000        0.996  \n",
       "liveness               0.09690       0.126000       0.244000        1.000  \n",
       "loudness              36.18600      39.769500      41.873000       50.790  \n",
       "speechiness            0.03610       0.048900       0.098525        0.942  \n",
       "tempo                 96.77575     119.879000     139.468250      220.276  \n",
       "valence                0.25700       0.448000       0.648000        0.992  \n",
       "key_index              4.00000       6.000000       9.000000       12.000  \n",
       "mode_index             0.00000       1.000000       1.000000        1.000  \n",
       "genre_index            0.00000       0.000000       0.000000        1.000  "
      ]
     },
     "execution_count": 26,
     "metadata": {},
     "output_type": "execute_result"
    }
   ],
   "source": [
    "#show data after all changes\n",
    "df.describe().transpose()"
   ]
  },
  {
   "cell_type": "markdown",
   "metadata": {},
   "source": [
    "The table above shows that all the data looks to now be in a useable form, however it still needs to be normalized."
   ]
  },
  {
   "cell_type": "code",
   "execution_count": 27,
   "metadata": {},
   "outputs": [],
   "source": [
    "#makes it easy to separate the target from everything else\n",
    "target = ['genre_index']\n",
    "predictors = list(set(list(df.columns))-set(target))\n",
    "#normalize data\n",
    "df[predictors] = df[predictors]/df[predictors].max()"
   ]
  },
  {
   "cell_type": "markdown",
   "metadata": {},
   "source": [
    "Now I wanted to remove all missing values from the DataFrame and double check by looking to see if the counts of each feature match."
   ]
  },
  {
   "cell_type": "code",
   "execution_count": 28,
   "metadata": {},
   "outputs": [
    {
     "data": {
      "text/html": [
       "<div>\n",
       "<style scoped>\n",
       "    .dataframe tbody tr th:only-of-type {\n",
       "        vertical-align: middle;\n",
       "    }\n",
       "\n",
       "    .dataframe tbody tr th {\n",
       "        vertical-align: top;\n",
       "    }\n",
       "\n",
       "    .dataframe thead th {\n",
       "        text-align: right;\n",
       "    }\n",
       "</style>\n",
       "<table border=\"1\" class=\"dataframe\">\n",
       "  <thead>\n",
       "    <tr style=\"text-align: right;\">\n",
       "      <th></th>\n",
       "      <th>count</th>\n",
       "      <th>mean</th>\n",
       "      <th>std</th>\n",
       "      <th>min</th>\n",
       "      <th>25%</th>\n",
       "      <th>50%</th>\n",
       "      <th>75%</th>\n",
       "      <th>max</th>\n",
       "    </tr>\n",
       "  </thead>\n",
       "  <tbody>\n",
       "    <tr>\n",
       "      <th>popularity</th>\n",
       "      <td>50000.0</td>\n",
       "      <td>0.446671</td>\n",
       "      <td>0.156990</td>\n",
       "      <td>0.000000</td>\n",
       "      <td>0.343434</td>\n",
       "      <td>0.454545</td>\n",
       "      <td>0.565657</td>\n",
       "      <td>1.0</td>\n",
       "    </tr>\n",
       "    <tr>\n",
       "      <th>acousticness</th>\n",
       "      <td>50000.0</td>\n",
       "      <td>0.307613</td>\n",
       "      <td>0.342711</td>\n",
       "      <td>0.000000</td>\n",
       "      <td>0.020080</td>\n",
       "      <td>0.144578</td>\n",
       "      <td>0.554217</td>\n",
       "      <td>1.0</td>\n",
       "    </tr>\n",
       "    <tr>\n",
       "      <th>danceability</th>\n",
       "      <td>50000.0</td>\n",
       "      <td>0.566167</td>\n",
       "      <td>0.181168</td>\n",
       "      <td>0.060446</td>\n",
       "      <td>0.448276</td>\n",
       "      <td>0.576065</td>\n",
       "      <td>0.696755</td>\n",
       "      <td>1.0</td>\n",
       "    </tr>\n",
       "    <tr>\n",
       "      <th>duration_ms</th>\n",
       "      <td>50000.0</td>\n",
       "      <td>0.050286</td>\n",
       "      <td>0.021959</td>\n",
       "      <td>0.003211</td>\n",
       "      <td>0.040342</td>\n",
       "      <td>0.045394</td>\n",
       "      <td>0.055606</td>\n",
       "      <td>1.0</td>\n",
       "    </tr>\n",
       "    <tr>\n",
       "      <th>energy</th>\n",
       "      <td>50000.0</td>\n",
       "      <td>0.600355</td>\n",
       "      <td>0.264824</td>\n",
       "      <td>0.000793</td>\n",
       "      <td>0.433433</td>\n",
       "      <td>0.643644</td>\n",
       "      <td>0.815816</td>\n",
       "      <td>1.0</td>\n",
       "    </tr>\n",
       "    <tr>\n",
       "      <th>instrumentalness</th>\n",
       "      <td>50000.0</td>\n",
       "      <td>0.182330</td>\n",
       "      <td>0.326716</td>\n",
       "      <td>0.000000</td>\n",
       "      <td>0.000000</td>\n",
       "      <td>0.000159</td>\n",
       "      <td>0.155622</td>\n",
       "      <td>1.0</td>\n",
       "    </tr>\n",
       "    <tr>\n",
       "      <th>liveness</th>\n",
       "      <td>50000.0</td>\n",
       "      <td>0.193896</td>\n",
       "      <td>0.161637</td>\n",
       "      <td>0.009670</td>\n",
       "      <td>0.096900</td>\n",
       "      <td>0.126000</td>\n",
       "      <td>0.244000</td>\n",
       "      <td>1.0</td>\n",
       "    </tr>\n",
       "    <tr>\n",
       "      <th>loudness</th>\n",
       "      <td>50000.0</td>\n",
       "      <td>0.746451</td>\n",
       "      <td>0.121343</td>\n",
       "      <td>0.000000</td>\n",
       "      <td>0.712463</td>\n",
       "      <td>0.783018</td>\n",
       "      <td>0.824434</td>\n",
       "      <td>1.0</td>\n",
       "    </tr>\n",
       "    <tr>\n",
       "      <th>speechiness</th>\n",
       "      <td>50000.0</td>\n",
       "      <td>0.099349</td>\n",
       "      <td>0.107615</td>\n",
       "      <td>0.023673</td>\n",
       "      <td>0.038323</td>\n",
       "      <td>0.051911</td>\n",
       "      <td>0.104591</td>\n",
       "      <td>1.0</td>\n",
       "    </tr>\n",
       "    <tr>\n",
       "      <th>tempo</th>\n",
       "      <td>50000.0</td>\n",
       "      <td>0.544524</td>\n",
       "      <td>0.131997</td>\n",
       "      <td>0.155927</td>\n",
       "      <td>0.439339</td>\n",
       "      <td>0.544222</td>\n",
       "      <td>0.633152</td>\n",
       "      <td>1.0</td>\n",
       "    </tr>\n",
       "    <tr>\n",
       "      <th>valence</th>\n",
       "      <td>50000.0</td>\n",
       "      <td>0.459944</td>\n",
       "      <td>0.249112</td>\n",
       "      <td>0.000000</td>\n",
       "      <td>0.259073</td>\n",
       "      <td>0.451613</td>\n",
       "      <td>0.653226</td>\n",
       "      <td>1.0</td>\n",
       "    </tr>\n",
       "    <tr>\n",
       "      <th>key_index</th>\n",
       "      <td>50000.0</td>\n",
       "      <td>0.529535</td>\n",
       "      <td>0.288102</td>\n",
       "      <td>0.083333</td>\n",
       "      <td>0.333333</td>\n",
       "      <td>0.500000</td>\n",
       "      <td>0.750000</td>\n",
       "      <td>1.0</td>\n",
       "    </tr>\n",
       "    <tr>\n",
       "      <th>mode_index</th>\n",
       "      <td>50000.0</td>\n",
       "      <td>0.641980</td>\n",
       "      <td>0.479423</td>\n",
       "      <td>0.000000</td>\n",
       "      <td>0.000000</td>\n",
       "      <td>1.000000</td>\n",
       "      <td>1.000000</td>\n",
       "      <td>1.0</td>\n",
       "    </tr>\n",
       "    <tr>\n",
       "      <th>genre_index</th>\n",
       "      <td>50000.0</td>\n",
       "      <td>0.100000</td>\n",
       "      <td>0.300003</td>\n",
       "      <td>0.000000</td>\n",
       "      <td>0.000000</td>\n",
       "      <td>0.000000</td>\n",
       "      <td>0.000000</td>\n",
       "      <td>1.0</td>\n",
       "    </tr>\n",
       "  </tbody>\n",
       "</table>\n",
       "</div>"
      ],
      "text/plain": [
       "                    count      mean       std       min       25%       50%  \\\n",
       "popularity        50000.0  0.446671  0.156990  0.000000  0.343434  0.454545   \n",
       "acousticness      50000.0  0.307613  0.342711  0.000000  0.020080  0.144578   \n",
       "danceability      50000.0  0.566167  0.181168  0.060446  0.448276  0.576065   \n",
       "duration_ms       50000.0  0.050286  0.021959  0.003211  0.040342  0.045394   \n",
       "energy            50000.0  0.600355  0.264824  0.000793  0.433433  0.643644   \n",
       "instrumentalness  50000.0  0.182330  0.326716  0.000000  0.000000  0.000159   \n",
       "liveness          50000.0  0.193896  0.161637  0.009670  0.096900  0.126000   \n",
       "loudness          50000.0  0.746451  0.121343  0.000000  0.712463  0.783018   \n",
       "speechiness       50000.0  0.099349  0.107615  0.023673  0.038323  0.051911   \n",
       "tempo             50000.0  0.544524  0.131997  0.155927  0.439339  0.544222   \n",
       "valence           50000.0  0.459944  0.249112  0.000000  0.259073  0.451613   \n",
       "key_index         50000.0  0.529535  0.288102  0.083333  0.333333  0.500000   \n",
       "mode_index        50000.0  0.641980  0.479423  0.000000  0.000000  1.000000   \n",
       "genre_index       50000.0  0.100000  0.300003  0.000000  0.000000  0.000000   \n",
       "\n",
       "                       75%  max  \n",
       "popularity        0.565657  1.0  \n",
       "acousticness      0.554217  1.0  \n",
       "danceability      0.696755  1.0  \n",
       "duration_ms       0.055606  1.0  \n",
       "energy            0.815816  1.0  \n",
       "instrumentalness  0.155622  1.0  \n",
       "liveness          0.244000  1.0  \n",
       "loudness          0.824434  1.0  \n",
       "speechiness       0.104591  1.0  \n",
       "tempo             0.633152  1.0  \n",
       "valence           0.653226  1.0  \n",
       "key_index         0.750000  1.0  \n",
       "mode_index        1.000000  1.0  \n",
       "genre_index       0.000000  1.0  "
      ]
     },
     "execution_count": 28,
     "metadata": {},
     "output_type": "execute_result"
    }
   ],
   "source": [
    "#Removes missing values\n",
    "df = df.dropna()\n",
    "#Use count column to verify\n",
    "df.describe().transpose()"
   ]
  },
  {
   "cell_type": "code",
   "execution_count": 29,
   "metadata": {},
   "outputs": [
    {
     "name": "stdout",
     "output_type": "stream",
     "text": [
      "1635\n"
     ]
    }
   ],
   "source": [
    "#show new list of all duplicated values after transformations\n",
    "print(df.duplicated().sum())"
   ]
  },
  {
   "cell_type": "code",
   "execution_count": 30,
   "metadata": {},
   "outputs": [
    {
     "name": "stdout",
     "output_type": "stream",
     "text": [
      "0\n"
     ]
    }
   ],
   "source": [
    "df = df.drop_duplicates()\n",
    "print(df.duplicated().sum())"
   ]
  },
  {
   "cell_type": "markdown",
   "metadata": {},
   "source": [
    "After changing around the features, the variance can be used to make sure to use the most impactful features."
   ]
  },
  {
   "cell_type": "code",
   "execution_count": 31,
   "metadata": {},
   "outputs": [
    {
     "data": {
      "text/html": [
       "<div>\n",
       "<style scoped>\n",
       "    .dataframe tbody tr th:only-of-type {\n",
       "        vertical-align: middle;\n",
       "    }\n",
       "\n",
       "    .dataframe tbody tr th {\n",
       "        vertical-align: top;\n",
       "    }\n",
       "\n",
       "    .dataframe thead th {\n",
       "        text-align: right;\n",
       "    }\n",
       "</style>\n",
       "<table border=\"1\" class=\"dataframe\">\n",
       "  <thead>\n",
       "    <tr style=\"text-align: right;\">\n",
       "      <th></th>\n",
       "      <th>popularity</th>\n",
       "      <th>acousticness</th>\n",
       "      <th>danceability</th>\n",
       "      <th>energy</th>\n",
       "      <th>instrumentalness</th>\n",
       "      <th>liveness</th>\n",
       "      <th>loudness</th>\n",
       "      <th>speechiness</th>\n",
       "      <th>tempo</th>\n",
       "      <th>valence</th>\n",
       "      <th>key_index</th>\n",
       "      <th>mode_index</th>\n",
       "      <th>genre_index</th>\n",
       "    </tr>\n",
       "  </thead>\n",
       "  <tbody>\n",
       "    <tr>\n",
       "      <th>0</th>\n",
       "      <td>0.272727</td>\n",
       "      <td>0.004699</td>\n",
       "      <td>0.661258</td>\n",
       "      <td>0.941942</td>\n",
       "      <td>0.795181</td>\n",
       "      <td>0.115</td>\n",
       "      <td>0.823883</td>\n",
       "      <td>0.079406</td>\n",
       "      <td>0.458012</td>\n",
       "      <td>0.765121</td>\n",
       "      <td>0.166667</td>\n",
       "      <td>0.0</td>\n",
       "      <td>0.0</td>\n",
       "    </tr>\n",
       "    <tr>\n",
       "      <th>1</th>\n",
       "      <td>0.373737</td>\n",
       "      <td>0.203815</td>\n",
       "      <td>0.779919</td>\n",
       "      <td>0.551552</td>\n",
       "      <td>0.885542</td>\n",
       "      <td>0.109</td>\n",
       "      <td>0.679779</td>\n",
       "      <td>0.043312</td>\n",
       "      <td>0.544222</td>\n",
       "      <td>0.062298</td>\n",
       "      <td>0.166667</td>\n",
       "      <td>0.0</td>\n",
       "      <td>0.0</td>\n",
       "    </tr>\n",
       "    <tr>\n",
       "      <th>2</th>\n",
       "      <td>0.373737</td>\n",
       "      <td>0.009327</td>\n",
       "      <td>0.625761</td>\n",
       "      <td>0.896897</td>\n",
       "      <td>0.077912</td>\n",
       "      <td>0.526</td>\n",
       "      <td>0.920043</td>\n",
       "      <td>0.201699</td>\n",
       "      <td>0.680601</td>\n",
       "      <td>0.550403</td>\n",
       "      <td>0.166667</td>\n",
       "      <td>0.0</td>\n",
       "      <td>0.0</td>\n",
       "    </tr>\n",
       "    <tr>\n",
       "      <th>3</th>\n",
       "      <td>0.474747</td>\n",
       "      <td>0.000411</td>\n",
       "      <td>0.575051</td>\n",
       "      <td>0.898899</td>\n",
       "      <td>0.615462</td>\n",
       "      <td>0.249</td>\n",
       "      <td>0.900965</td>\n",
       "      <td>0.132696</td>\n",
       "      <td>0.340459</td>\n",
       "      <td>0.184476</td>\n",
       "      <td>0.166667</td>\n",
       "      <td>0.0</td>\n",
       "      <td>0.0</td>\n",
       "    </tr>\n",
       "    <tr>\n",
       "      <th>4</th>\n",
       "      <td>0.383838</td>\n",
       "      <td>0.002269</td>\n",
       "      <td>0.666329</td>\n",
       "      <td>0.709710</td>\n",
       "      <td>0.632530</td>\n",
       "      <td>0.200</td>\n",
       "      <td>0.797657</td>\n",
       "      <td>0.061465</td>\n",
       "      <td>0.365446</td>\n",
       "      <td>0.785282</td>\n",
       "      <td>0.166667</td>\n",
       "      <td>0.0</td>\n",
       "      <td>0.0</td>\n",
       "    </tr>\n",
       "  </tbody>\n",
       "</table>\n",
       "</div>"
      ],
      "text/plain": [
       "   popularity  acousticness  danceability    energy  instrumentalness  \\\n",
       "0    0.272727      0.004699      0.661258  0.941942          0.795181   \n",
       "1    0.373737      0.203815      0.779919  0.551552          0.885542   \n",
       "2    0.373737      0.009327      0.625761  0.896897          0.077912   \n",
       "3    0.474747      0.000411      0.575051  0.898899          0.615462   \n",
       "4    0.383838      0.002269      0.666329  0.709710          0.632530   \n",
       "\n",
       "   liveness  loudness  speechiness     tempo   valence  key_index  mode_index  \\\n",
       "0     0.115  0.823883     0.079406  0.458012  0.765121   0.166667         0.0   \n",
       "1     0.109  0.679779     0.043312  0.544222  0.062298   0.166667         0.0   \n",
       "2     0.526  0.920043     0.201699  0.680601  0.550403   0.166667         0.0   \n",
       "3     0.249  0.900965     0.132696  0.340459  0.184476   0.166667         0.0   \n",
       "4     0.200  0.797657     0.061465  0.365446  0.785282   0.166667         0.0   \n",
       "\n",
       "   genre_index  \n",
       "0          0.0  \n",
       "1          0.0  \n",
       "2          0.0  \n",
       "3          0.0  \n",
       "4          0.0  "
      ]
     },
     "execution_count": 31,
     "metadata": {},
     "output_type": "execute_result"
    }
   ],
   "source": [
    "from sklearn.feature_selection import VarianceThreshold\n",
    "#create the threshold\n",
    "vt = VarianceThreshold(threshold=.01)\n",
    "#remove features with a low variance\n",
    "vt.fit(df)\n",
    "#grab the column names\n",
    "mask = vt.get_support()\n",
    "#add the column names back to the updated dataframe\n",
    "df = df.loc[:, mask]\n",
    "#update list of predictors\n",
    "predictors = list(set(list(df.columns))-set(target))\n",
    "df.head()"
   ]
  },
  {
   "cell_type": "markdown",
   "metadata": {},
   "source": [
    "## Modeling"
   ]
  },
  {
   "cell_type": "markdown",
   "metadata": {},
   "source": [
    "Now that the data set has been normalized, had missing values removed, had duplicates removed, and added a variance threshold, it is time to split the data into testing and training."
   ]
  },
  {
   "cell_type": "code",
   "execution_count": 32,
   "metadata": {},
   "outputs": [],
   "source": [
    "#changes the dataframe into two numpy arrays\n",
    "X = df[predictors].values\n",
    "y = df[target].values\n",
    "#Change y from a column-vector to a 1d array\n",
    "y = np.ravel(y)\n",
    "\n",
    "#split x and y arrays into training and testing\n",
    "from sklearn.model_selection import train_test_split\n",
    "X_train, X_test, y_train, y_test = train_test_split(X, y, test_size = 0.30, random_state=40)"
   ]
  },
  {
   "cell_type": "markdown",
   "metadata": {},
   "source": [
    "For evaluation metrics, I chose the classification report as it had all of the calculations I wanted (precision, recall, f1 score, and accuracy score) grouped into a readable way. I also chose the confusion matrix as I thought it would be helpful to see the raw numbers being used for all of the calculations. I considered using the ROC Curve however I thought that would require more interpretation than pure calculations and therefore be less helpful."
   ]
  },
  {
   "cell_type": "markdown",
   "metadata": {},
   "source": [
    "### Multi-layer Perceptron"
   ]
  },
  {
   "cell_type": "markdown",
   "metadata": {},
   "source": [
    "Now the data is properly prepared and it is time to test out several models to compare the results. First model is a multi-layer perceptron, I chose this because mlp's are great for supervised learning problems and this one is specialized for classification."
   ]
  },
  {
   "cell_type": "code",
   "execution_count": 33,
   "metadata": {},
   "outputs": [
    {
     "name": "stdout",
     "output_type": "stream",
     "text": [
      "              precision    recall  f1-score   support\n",
      "\n",
      "         0.0       0.98      0.98      0.98     12959\n",
      "         1.0       0.84      0.82      0.83      1551\n",
      "\n",
      "    accuracy                           0.96     14510\n",
      "   macro avg       0.91      0.90      0.91     14510\n",
      "weighted avg       0.96      0.96      0.96     14510\n",
      "\n"
     ]
    },
    {
     "data": {
      "image/png": "[encoded data removed]",
      "text/plain": [
       "<Figure size 432x288 with 2 Axes>"
      ]
     },
     "metadata": {
      "needs_background": "light"
     },
     "output_type": "display_data"
    }
   ],
   "source": [
    "#creates the model\n",
    "from sklearn.neural_network import MLPClassifier\n",
    "nodes = len(df.columns)\n",
    "mlp = MLPClassifier(hidden_layer_sizes=(nodes,nodes,nodes), activation='relu', solver='adam', max_iter=500)\n",
    "#fits model to the training data\n",
    "mlp.fit(X_train, y_train)\n",
    "#makes predictions on new testing data\n",
    "predict_test = mlp.predict(X_test)\n",
    "\n",
    "#shows results of predictions of training data\n",
    "from sklearn.metrics import classification_report,confusion_matrix, ConfusionMatrixDisplay\n",
    "\n",
    "cm = confusion_matrix(y_test, predict_test)\n",
    "disp = ConfusionMatrixDisplay(confusion_matrix=cm)\n",
    "disp.plot()\n",
    "print(classification_report(y_test, predict_test))"
   ]
  },
  {
   "cell_type": "code",
   "execution_count": 34,
   "metadata": {},
   "outputs": [],
   "source": [
    "total = cm[0][1] + cm[0][0] + cm[1][0] + cm[1][1]\n",
    "orig_tp = cm[0][0]\n",
    "orig_tn = cm[1][1]\n",
    "orig_fp = cm[1][0]\n",
    "orig_fn = cm[0][1]\n",
    "orig_accuracy = (cm[0][0] + cm[1][1]) / total"
   ]
  },
  {
   "cell_type": "markdown",
   "metadata": {},
   "source": [
    "This model has the highest accuracy out of all the models, the most amount of true negatives, and the least amount of false negatives."
   ]
  },
  {
   "cell_type": "markdown",
   "metadata": {},
   "source": [
    "### Logistic Regression"
   ]
  },
  {
   "cell_type": "markdown",
   "metadata": {},
   "source": [
    "Then I tried logistic regression because the dependent variable is binary, it is either rock music or not rock music with nothing in between."
   ]
  },
  {
   "cell_type": "code",
   "execution_count": 35,
   "metadata": {},
   "outputs": [
    {
     "name": "stdout",
     "output_type": "stream",
     "text": [
      "              precision    recall  f1-score   support\n",
      "\n",
      "         0.0       0.97      0.98      0.98     12959\n",
      "         1.0       0.84      0.77      0.80      1551\n",
      "\n",
      "    accuracy                           0.96     14510\n",
      "   macro avg       0.91      0.88      0.89     14510\n",
      "weighted avg       0.96      0.96      0.96     14510\n",
      "\n"
     ]
    },
    {
     "data": {
      "image/png": "[encoded data removed]",
      "text/plain": [
       "<Figure size 432x288 with 2 Axes>"
      ]
     },
     "metadata": {
      "needs_background": "light"
     },
     "output_type": "display_data"
    }
   ],
   "source": [
    "#creates the model\n",
    "from sklearn.linear_model import LogisticRegression\n",
    "lr = LogisticRegression(random_state=0)\n",
    "#fits model to the training data\n",
    "lr.fit(X_train, y_train)\n",
    "#makes predictions on new testing data\n",
    "predict_test = lr.predict(X_test)\n",
    "\n",
    "#shows results of predictions of training data\n",
    "cm = confusion_matrix(y_test, predict_test)\n",
    "disp = ConfusionMatrixDisplay(confusion_matrix=cm)\n",
    "disp.plot()\n",
    "print(classification_report(y_test, predict_test))"
   ]
  },
  {
   "cell_type": "markdown",
   "metadata": {},
   "source": [
    "This model has the most amount of true positives and the least amount of false positives."
   ]
  },
  {
   "cell_type": "markdown",
   "metadata": {},
   "source": [
    "### K Nearest Neighbor"
   ]
  },
  {
   "cell_type": "markdown",
   "metadata": {},
   "source": [
    "KNN I chose this because it is a popular and simple model for classification."
   ]
  },
  {
   "cell_type": "code",
   "execution_count": 36,
   "metadata": {},
   "outputs": [
    {
     "name": "stdout",
     "output_type": "stream",
     "text": [
      "              precision    recall  f1-score   support\n",
      "\n",
      "         0.0       0.98      0.98      0.98     12959\n",
      "         1.0       0.83      0.82      0.82      1551\n",
      "\n",
      "    accuracy                           0.96     14510\n",
      "   macro avg       0.90      0.90      0.90     14510\n",
      "weighted avg       0.96      0.96      0.96     14510\n",
      "\n"
     ]
    },
    {
     "data": {
      "image/png": "[encoded data removed]",
      "text/plain": [
       "<Figure size 432x288 with 2 Axes>"
      ]
     },
     "metadata": {
      "needs_background": "light"
     },
     "output_type": "display_data"
    }
   ],
   "source": [
    "#creates the model\n",
    "from sklearn.neighbors import KNeighborsClassifier\n",
    "neigh = KNeighborsClassifier()\n",
    "#fits model to the training data\n",
    "neigh.fit(X_train, y_train)\n",
    "#makes predictions on new testing data\n",
    "predict_test = neigh.predict(X_test)\n",
    "\n",
    "#shows results of predictions of training data\n",
    "cm = confusion_matrix(y_test, predict_test)\n",
    "disp = ConfusionMatrixDisplay(confusion_matrix=cm)\n",
    "disp.plot()\n",
    "print(classification_report(y_test, predict_test))"
   ]
  },
  {
   "cell_type": "markdown",
   "metadata": {},
   "source": [
    "This model has the least amount of true negatives, the most amount of false negatives, and the lowest accuracy score."
   ]
  },
  {
   "cell_type": "markdown",
   "metadata": {},
   "source": [
    "### Random Forest Classifier"
   ]
  },
  {
   "cell_type": "markdown",
   "metadata": {},
   "source": [
    "Random Forest Classifier I chose this because it is popular for classification and good with large datasets"
   ]
  },
  {
   "cell_type": "code",
   "execution_count": 37,
   "metadata": {},
   "outputs": [
    {
     "name": "stdout",
     "output_type": "stream",
     "text": [
      "              precision    recall  f1-score   support\n",
      "\n",
      "         0.0       0.98      0.99      0.98     12959\n",
      "         1.0       0.88      0.82      0.85      1551\n",
      "\n",
      "    accuracy                           0.97     14510\n",
      "   macro avg       0.93      0.90      0.91     14510\n",
      "weighted avg       0.97      0.97      0.97     14510\n",
      "\n"
     ]
    },
    {
     "data": {
      "image/png": "[encoded data removed]",
      "text/plain": [
       "<Figure size 432x288 with 2 Axes>"
      ]
     },
     "metadata": {
      "needs_background": "light"
     },
     "output_type": "display_data"
    }
   ],
   "source": [
    "#creates the model\n",
    "from sklearn.ensemble import RandomForestClassifier\n",
    "rfc = RandomForestClassifier()\n",
    "#fits model to the training data\n",
    "rfc.fit(X_train, y_train)\n",
    "#makes predictions on new testing data\n",
    "predict_test = rfc.predict(X_test)\n",
    "\n",
    "#shows results of predictions of training data\n",
    "cm = confusion_matrix(y_test, predict_test)\n",
    "disp = ConfusionMatrixDisplay(confusion_matrix=cm)\n",
    "disp.plot()\n",
    "print(classification_report(y_test, predict_test))"
   ]
  },
  {
   "cell_type": "markdown",
   "metadata": {},
   "source": [
    "This model had very middle of the road results."
   ]
  },
  {
   "cell_type": "markdown",
   "metadata": {},
   "source": [
    "### Improving Accuracy"
   ]
  },
  {
   "cell_type": "markdown",
   "metadata": {},
   "source": [
    "As the MLP was the most accurate, I want to try and optimize it for extra accuracy. First I want to check what the most and least important features are using feature_importances_ from the random forest classifier"
   ]
  },
  {
   "cell_type": "code",
   "execution_count": 38,
   "metadata": {},
   "outputs": [
    {
     "data": {
      "image/png": "[encoded data removed]",
      "text/plain": [
       "<Figure size 432x288 with 1 Axes>"
      ]
     },
     "metadata": {
      "needs_background": "light"
     },
     "output_type": "display_data"
    }
   ],
   "source": [
    "#call function\n",
    "importances = rfc.feature_importances_\n",
    "#calculate standard deviatoin\n",
    "std = np.std([tree.feature_importances_ for tree in rfc.estimators_], axis=0)\n",
    "#organize into individual features\n",
    "forest_importances = pd.Series(importances, index=df[predictors].columns)\n",
    "#setup graph and plot results\n",
    "fig, ax = plt.subplots()\n",
    "forest_importances.plot.bar(yerr=std, ax=ax)\n",
    "fig.tight_layout()"
   ]
  },
  {
   "cell_type": "markdown",
   "metadata": {},
   "source": [
    "My main take aways from the graph above is that the three most predictive features are popularity, speechiness, and danceability. Meanwhile, the least predictive features are mode_index and key_index."
   ]
  },
  {
   "cell_type": "code",
   "execution_count": 39,
   "metadata": {},
   "outputs": [],
   "source": [
    "#drop least predictive features\n",
    "df = df.drop(columns=['mode_index', 'key_index'])\n",
    "#increase importance of predictive features\n",
    "df['loudness'] = df['loudness'] * 2\n",
    "df['acousticness'] = df['acousticness'] * 2\n",
    "#df['danceability'] = df['danceability'] * 2\n",
    "#df['energy'] = df['energy'] * 2"
   ]
  },
  {
   "cell_type": "code",
   "execution_count": 40,
   "metadata": {},
   "outputs": [],
   "source": [
    "predictors = list(set(list(df.columns))-set(target))\n",
    "#changes the dataframe into two numpy arrays\n",
    "X = df[predictors].values\n",
    "y = df[target].values\n",
    "#Change y from a column-vector to a 1d array\n",
    "y = np.ravel(y)\n",
    "#split x and y arrays into training and testing\n",
    "X_train, X_test, y_train, y_test = train_test_split(X, y, test_size = 0.30, random_state=40)"
   ]
  },
  {
   "cell_type": "code",
   "execution_count": 41,
   "metadata": {},
   "outputs": [
    {
     "name": "stdout",
     "output_type": "stream",
     "text": [
      "              precision    recall  f1-score   support\n",
      "\n",
      "         0.0       0.98      0.99      0.98     12959\n",
      "         1.0       0.88      0.81      0.84      1551\n",
      "\n",
      "    accuracy                           0.97     14510\n",
      "   macro avg       0.93      0.90      0.91     14510\n",
      "weighted avg       0.97      0.97      0.97     14510\n",
      "\n"
     ]
    },
    {
     "data": {
      "image/png": "[encoded data removed]",
      "text/plain": [
       "<Figure size 432x288 with 2 Axes>"
      ]
     },
     "metadata": {
      "needs_background": "light"
     },
     "output_type": "display_data"
    }
   ],
   "source": [
    "nodes = len(df.columns)\n",
    "mlp = MLPClassifier(hidden_layer_sizes=(nodes,nodes,nodes), activation='relu', solver='adam', max_iter=500)\n",
    "#fits model to the training data\n",
    "mlp.fit(X_train, y_train)\n",
    "#makes predictions on new testing data\n",
    "predict_test = mlp.predict(X_test)\n",
    "\n",
    "#shows results of predictions of training data\n",
    "cm = confusion_matrix(y_test, predict_test)\n",
    "disp = ConfusionMatrixDisplay(confusion_matrix=cm)\n",
    "disp.plot()\n",
    "print(classification_report(y_test, predict_test))"
   ]
  },
  {
   "cell_type": "markdown",
   "metadata": {},
   "source": [
    "Grab numbers from the confusion matrix "
   ]
  },
  {
   "cell_type": "code",
   "execution_count": 42,
   "metadata": {},
   "outputs": [
    {
     "name": "stdout",
     "output_type": "stream",
     "text": [
      "Accuracy of no model:  0.8931082012405238\n",
      "Accuracy of new model:  0.9678842177808408\n",
      "Accuracy of original model:  0.9647139903514818\n",
      "Difference in accuracy:  0.0031702274293590182\n",
      "Difference between true positives:  67\n",
      "Difference between true negatives:  -21\n",
      "Difference between fasle positives:  21\n",
      "Difference between false negatives:  -67\n"
     ]
    }
   ],
   "source": [
    "total = cm[0][1] + cm[0][0] + cm[1][0] + cm[1][1]\n",
    "new_accuracy = (cm[0][0] + cm[1][1]) / total\n",
    "print(\"Accuracy of no model: \", (cm[0][0] + cm[0][1]) / total)\n",
    "print(\"Accuracy of new model: \", new_accuracy) \n",
    "print(\"Accuracy of original model: \" , orig_accuracy)\n",
    "print(\"Difference in accuracy: \", new_accuracy - orig_accuracy)\n",
    "print(\"Difference between true positives: \", cm[0][0] - orig_tp)\n",
    "print(\"Difference between true negatives: \", cm[1][1] - orig_tn)\n",
    "print(\"Difference between fasle positives: \", cm[1][0] - orig_fp)\n",
    "print(\"Difference between false negatives: \", cm[0][1] - orig_fn)"
   ]
  },
  {
   "cell_type": "markdown",
   "metadata": {},
   "source": [
    "When comparing the new mlp to the initial MLP, on average it provides about a .3% increase. This is not a huge improvement but will certainly be helpful"
   ]
  }
 ],
 "metadata": {
  "interpreter": {
   "hash": "b1438f12f9e4e31045a71889292abd8ca999ae93a49c80dfedc819a5fa882159"
  },
  "kernelspec": {
   "display_name": "Python 3.9.9 64-bit (windows store)",
   "language": "python",
   "name": "python3"
  },
  "language_info": {
   "codemirror_mode": {
    "name": "ipython",
    "version": 3
   },
   "file_extension": ".py",
   "mimetype": "text/x-python",
   "name": "python",
   "nbconvert_exporter": "python",
   "pygments_lexer": "ipython3",
   "version": "3.9.9"
  },
  "orig_nbformat": 4
 },
 "nbformat": 4,
 "nbformat_minor": 2
}
